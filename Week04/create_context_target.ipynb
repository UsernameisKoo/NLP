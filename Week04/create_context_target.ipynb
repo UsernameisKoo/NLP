{
 "cells": [
  {
   "cell_type": "code",
   "execution_count": null,
   "metadata": {},
   "outputs": [],
   "source": [
    "def create_contexts_target(corpus, window_size=1): # 맥락(contexts)과 타깃(target) 생성 함수\n",
    "    # param corpus: 말뭉치(단어 ID로 이루어진 리스트)\n",
    "    # param window_size: 윈도우 크기 (양 옆 몇 개 단어를 맥락으로 볼지 결정, 예: 1이면 좌우 1개씩)\n",
    "    # return: (contexts, target)\n",
    "    # contexts: 맥락 단어들의 ID 리스트 (2D 배열)\n",
    "    # target: 중심(예측 대상) 단어들의 ID 리스트 (1D 배열)\n",
    "\n",
    "    # 타깃 단어 리스트: 윈도우 범위에 해당하는 양끝 단어는 제외\n",
    "    target = corpus[window_size:-window_size]\n",
    "\n",
    "    contexts = []  # 맥락을 저장할 리스트\n",
    "\n",
    "    # 윈도우 크기만큼 앞뒤 단어를 맥락으로 추출\n",
    "    for idx in range(window_size, len(corpus) - window_size):\n",
    "        cs = []  # 현재 타깃 단어에 대한 맥락 리스트\n",
    "\n",
    "        for t in range(-window_size, window_size + 1):  # 예: [-1, 0, 1]\n",
    "            if t == 0:\n",
    "                continue  # 중심 단어(t=0)는 맥락에서 제외\n",
    "\n",
    "            cs.append(corpus[idx + t])  # 좌우 단어를 맥락에 추가\n",
    "\n",
    "        contexts.append(cs)  # 하나의 맥락 완성\n",
    "\n",
    "    return np.array(contexts), np.array(target) # 리스트를 넘파이 배열로 변환하여 반환\n"
   ]
  }
 ],
 "metadata": {
  "language_info": {
   "name": "python"
  }
 },
 "nbformat": 4,
 "nbformat_minor": 2
}
