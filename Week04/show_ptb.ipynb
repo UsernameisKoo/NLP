{
 "cells": [
  {
   "cell_type": "code",
   "execution_count": null,
   "metadata": {},
   "outputs": [
    {
     "name": "stdout",
     "output_type": "stream",
     "text": [
      "Downloading ptb.train.txt ... \n",
      "Done\n",
      "말뭉치 크기: 929589\n",
      "corpus[:30]: [ 0  1  2  3  4  5  6  7  8  9 10 11 12 13 14 15 16 17 18 19 20 21 22 23\n",
      " 24 25 26 27 28 29]\n",
      "\n",
      "id_to_word[0]: aer\n",
      "id_to_word[1]: banknote\n",
      "id_to_word[2]: berlitz\n",
      "\n",
      "word_to_id['car']: 3856\n",
      "word_to_id['happy']: 4428\n",
      "word_to_id['lexus']: 7426\n"
     ]
    }
   ],
   "source": [
    "# coding: utf-8\n",
    "\n",
    "# sys 모듈을 불러와서 시스템 경로를 설정\n",
    "import sys\n",
    "\n",
    "# 상위 폴더에 있는 'dataset' 모듈을 import 가능하게 함\n",
    "sys.path.append('..') # 상위 디렉토리를 모듈 검색 경로에 추가\n",
    "from dataset import ptb # 'dataset' 폴더 안의 'ptb.py' 모듈을 import\n",
    "\n",
    "# 'train' 데이터셋을 Load하여, 말뭉치(corpus - array), 단어 -> ID 매핑(word_to_id - 딕셔너리), ID -> 단어 매핑(id_to_word - 딕셔너리)을 얻음\n",
    "corpus, word_to_id, id_to_word = ptb.load_data('train')\n",
    "\n",
    "# len()은 파이썬 내장 함수 사용 -> 전체 말뭉치 크기(단어 ID의 총 개수)를 출력\n",
    "print('말뭉치 크기:', len(corpus))\n",
    "\n",
    "# 말뭉치(corpus)에서 앞의 30개의 단어 ID를 출력\n",
    "print('corpus[:30]:', corpus[:30])\n",
    "\n",
    "# \\n 출력\n",
    "print()\n",
    "\n",
    "# id_to_word는 ID(숫자)를 단어로 바꾼 딕셔너리(dictionary)\n",
    "# id_to_word에서 사용하여 ID 0, 1, 2에 해당하는 단어를 출력\n",
    "print('id_to_word[0]:', id_to_word[0])\n",
    "print('id_to_word[1]:', id_to_word[1])\n",
    "print('id_to_word[2]:', id_to_word[2])\n",
    "\n",
    "# \\n 출력\n",
    "print()\n",
    "\n",
    "# id_to_word는 단어를 ID(숫자)로 바꾼 딕셔너리(dictionary)\n",
    "# word_to_id에서 특정 단어가 어떤 ID로 매핑되어 있는지 출력\n",
    "print(\"word_to_id['car']:\", word_to_id['car'])\n",
    "print(\"word_to_id['happy']:\", word_to_id['happy'])\n",
    "print(\"word_to_id['lexus']:\", word_to_id['lexus'])"
   ]
  }
 ],
 "metadata": {
  "kernelspec": {
   "display_name": "base",
   "language": "python",
   "name": "python3"
  },
  "language_info": {
   "codemirror_mode": {
    "name": "ipython",
    "version": 3
   },
   "file_extension": ".py",
   "mimetype": "text/x-python",
   "name": "python",
   "nbconvert_exporter": "python",
   "pygments_lexer": "ipython3",
   "version": "3.9.13"
  }
 },
 "nbformat": 4,
 "nbformat_minor": 2
}
